{
 "cells": [
  {
   "cell_type": "code",
   "execution_count": 2,
   "id": "d0216c56",
   "metadata": {},
   "outputs": [],
   "source": [
    "# Requiered libraries\n",
    "import pandas as pd\n",
    "import numpy as np\n",
    "from pandas.tseries.offsets import DateOffset\n",
    "from fbprophet import Prophet\n",
    "import hvplot.pandas\n",
    "import matplotlib.pyplot as plt\n",
    "import warnings\n",
    "warnings.filterwarnings('ignore')"
   ]
  },
  {
   "cell_type": "code",
   "execution_count": null,
   "id": "37c72d9a",
   "metadata": {},
   "outputs": [],
   "source": [
    "elsl_df = pd.read_excel(Path(''))"
   ]
  }
 ],
 "metadata": {
  "kernelspec": {
   "display_name": "dev",
   "language": "python",
   "name": "dev"
  },
  "language_info": {
   "codemirror_mode": {
    "name": "ipython",
    "version": 3
   },
   "file_extension": ".py",
   "mimetype": "text/x-python",
   "name": "python",
   "nbconvert_exporter": "python",
   "pygments_lexer": "ipython3",
   "version": "3.7.9"
  }
 },
 "nbformat": 4,
 "nbformat_minor": 5
}
